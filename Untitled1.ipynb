{
  "nbformat": 4,
  "nbformat_minor": 0,
  "metadata": {
    "colab": {
      "provenance": [],
      "collapsed_sections": [],
      "authorship_tag": "ABX9TyNtPyuXBOoPwII11czFVDMs",
      "include_colab_link": true
    },
    "kernelspec": {
      "name": "python3",
      "display_name": "Python 3"
    },
    "language_info": {
      "name": "python"
    }
  },
  "cells": [
    {
      "cell_type": "markdown",
      "metadata": {
        "id": "view-in-github",
        "colab_type": "text"
      },
      "source": [
        "<a href=\"https://colab.research.google.com/github/Wolf123987/Python-program-to-calculate-BMI/blob/main/Untitled1.ipynb\" target=\"_parent\"><img src=\"https://colab.research.google.com/assets/colab-badge.svg\" alt=\"Open In Colab\"/></a>"
      ]
    },
    {
      "cell_type": "code",
      "execution_count": 9,
      "metadata": {
        "colab": {
          "base_uri": "https://localhost:8080/"
        },
        "id": "QKfox5-2ppd5",
        "outputId": "fc73ca26-a226-4d4c-e710-94ed243cf9b4"
      },
      "outputs": [
        {
          "output_type": "stream",
          "name": "stdout",
          "text": [
            "enter your weight in kg \n",
            "75\n",
            "enter your height in cm  \n",
            "167\n",
            "your bmi is 26.89232313815483\n",
            "you are over weight by  1.892323138154829  kg try little hard to come back in fit catagory\n"
          ]
        }
      ],
      "source": [
        "##program to calculate  body mass index\n",
        "print(\"enter your weight in kg \")\n",
        "n1=input()\n",
        "weight=float(n1)\n",
        "print(\"enter your height in cm  \")\n",
        "n2=input()\n",
        "height=float(n2)\n",
        "height2=(height/100)**2\n",
        "x=weight/height2\n",
        "print(\"your bmi is\",weight/height2)\n",
        "if x>25:\n",
        "  print(\"you are over weight by \",x-25,\" kg try little hard to come back in fit catagory\")\n",
        "  if x>30:\n",
        "    print(\"you are in obasity condition,please avoid rice, potato and other high carbohydrade food\")\n",
        "  else:(\"print you are fit\")"
      ]
    }
  ]
}